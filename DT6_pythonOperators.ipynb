{
  "nbformat": 4,
  "nbformat_minor": 0,
  "metadata": {
    "colab": {
      "provenance": []
    },
    "kernelspec": {
      "name": "python3",
      "display_name": "Python 3"
    },
    "language_info": {
      "name": "python"
    }
  },
  "cells": [
    {
      "cell_type": "markdown",
      "source": [
        "# **Introduction to Operators**"
      ],
      "metadata": {
        "id": "auV5x_eE0VVu"
      }
    },
    {
      "cell_type": "markdown",
      "source": [
        "As we know, Operators are fundamental to any programming language.\n",
        "\n",
        "Operators in python are `special symbols` that allows us to perform certain operations on variables and numbers.\n",
        "\n",
        "\n",
        "Understanding how operators will work is crucial for effective programming."
      ],
      "metadata": {
        "id": "ZF4skZPs0cuW"
      }
    },
    {
      "cell_type": "markdown",
      "source": [
        "#### **Role of operators**"
      ],
      "metadata": {
        "id": "rlHIVSwm2Jul"
      }
    },
    {
      "cell_type": "markdown",
      "source": [
        "Operators really play a crucial role in writing any program.\n",
        "\n",
        "Operators are the tools that enable us to perform tasks like basic arithmetic operations, value comparisions and data manipulation.\n",
        "\n",
        "**1. Perform calculations:** Basic math operations like addition, subtraction, multiplication and division.\n",
        "\n",
        "**2. Compare values:** check relationships between values, such as greater than, less than or equal to.\n",
        "\n",
        "**3. Manipulate data:** To combine strings, change variables and control flow of your program."
      ],
      "metadata": {
        "id": "uthbJx1H1HLm"
      }
    },
    {
      "cell_type": "markdown",
      "source": [
        "#### **Operators in python**"
      ],
      "metadata": {
        "id": "i0uthAeI3h9k"
      }
    },
    {
      "cell_type": "markdown",
      "source": [
        "Inpython, we have the following operators\n",
        "1. Arithmetic operators\n",
        "2. Comparision operators\n",
        "3. Logical operators\n",
        "4. Membership operators\n",
        "5. Identity operators"
      ],
      "metadata": {
        "id": "RmRmHHld3tep"
      }
    },
    {
      "cell_type": "markdown",
      "source": [
        "##### **1. Arithmetic Operators**\n"
      ],
      "metadata": {
        "id": "hBfBRVdz5K6N"
      }
    },
    {
      "cell_type": "markdown",
      "source": [
        "Arithmetic operators in python are used to perform basic mathematical operations on numbers such as addition, subtraction, multiplication, division.\n",
        "\n",
        "Two operands are required."
      ],
      "metadata": {
        "id": "9TxopBGW5SKW"
      }
    },
    {
      "cell_type": "markdown",
      "source": [
        "Let,s see what arithmetic operators are and how they are used.\n",
        "\n",
        "  "
      ],
      "metadata": {
        "id": "GD7B0ADg5-8M"
      }
    },
    {
      "cell_type": "markdown",
      "source": [
        "**a. Addition (+)**\n",
        "\n",
        "* For numbers, it performs addition\n",
        "* For strings, it will concatenate two strings."
      ],
      "metadata": {
        "id": "siQFWO8l88Ym"
      }
    },
    {
      "cell_type": "code",
      "source": [
        "# Adding two numbers\n",
        "result = 5 + 8\n",
        "print(result)"
      ],
      "metadata": {
        "colab": {
          "base_uri": "https://localhost:8080/"
        },
        "id": "ANbvh6Gv9Wzv",
        "outputId": "26b66c84-a455-4eac-82d4-f61ba44a601f"
      },
      "execution_count": 3,
      "outputs": [
        {
          "output_type": "stream",
          "name": "stdout",
          "text": [
            "13\n"
          ]
        }
      ]
    },
    {
      "cell_type": "code",
      "source": [
        "# Concatenating two strings\n",
        "str1 = \"Hello\"\n",
        "str2 = \"Everyone\"\n",
        "result = str1 + str2\n",
        "print(result)"
      ],
      "metadata": {
        "colab": {
          "base_uri": "https://localhost:8080/"
        },
        "id": "FwonCw2t9niD",
        "outputId": "0a3c4e83-449f-45ee-e209-4fdd340ef673"
      },
      "execution_count": 13,
      "outputs": [
        {
          "output_type": "stream",
          "name": "stdout",
          "text": [
            "HelloEveryone\n"
          ]
        }
      ]
    },
    {
      "cell_type": "markdown",
      "source": [
        "**b. Subtraction (-)**\n",
        "* Used to subtract one number from another."
      ],
      "metadata": {
        "id": "70CWWsij-Nb2"
      }
    },
    {
      "cell_type": "code",
      "source": [
        "# Subtracting two numbers\n",
        "result = 45 - 10\n",
        "print(result)"
      ],
      "metadata": {
        "colab": {
          "base_uri": "https://localhost:8080/"
        },
        "id": "D6HVyIp--nIo",
        "outputId": "2d4c0887-bf97-408e-9146-fc1dbe12f4bc"
      },
      "execution_count": 12,
      "outputs": [
        {
          "output_type": "stream",
          "name": "stdout",
          "text": [
            "35\n"
          ]
        }
      ]
    },
    {
      "cell_type": "markdown",
      "source": [
        "**c. Multiplication (*)**\n",
        "* Used to multiple given values and return their product"
      ],
      "metadata": {
        "id": "14WGBf2YBMNJ"
      }
    },
    {
      "cell_type": "code",
      "source": [
        "# Multiplication of two numbers\n",
        "product = 5 * 10\n",
        "print(product)"
      ],
      "metadata": {
        "colab": {
          "base_uri": "https://localhost:8080/"
        },
        "id": "ju9s4DQpBnlW",
        "outputId": "382a1f64-ab19-4e6b-fdc3-dc2bf0938370"
      },
      "execution_count": 8,
      "outputs": [
        {
          "output_type": "stream",
          "name": "stdout",
          "text": [
            "50\n"
          ]
        }
      ]
    },
    {
      "cell_type": "markdown",
      "source": [
        "**d. Division (/)**\n",
        "* Used to divide one number by other, resulting in floating point values."
      ],
      "metadata": {
        "id": "Sa8RH4sMBzz3"
      }
    },
    {
      "cell_type": "code",
      "source": [
        "# Division of two numbers\n",
        "result = 8 / 2\n",
        "print(result)"
      ],
      "metadata": {
        "colab": {
          "base_uri": "https://localhost:8080/"
        },
        "id": "gRq0WdfICN4d",
        "outputId": "9bffc122-0fb7-4e1e-bc4f-399b69edd3ae"
      },
      "execution_count": 9,
      "outputs": [
        {
          "output_type": "stream",
          "name": "stdout",
          "text": [
            "4.0\n"
          ]
        }
      ]
    },
    {
      "cell_type": "markdown",
      "source": [
        "**e. Floor division (//)**\n",
        "* Performs integer division\n",
        "* AFter dividing one number by other, it return the `quotient`, discarding fractional part."
      ],
      "metadata": {
        "id": "ZkbiXoBICb18"
      }
    },
    {
      "cell_type": "code",
      "source": [
        "# Floor division\n",
        "result = 9 // 2\n",
        "print(result)"
      ],
      "metadata": {
        "colab": {
          "base_uri": "https://localhost:8080/"
        },
        "id": "2xWgVCphC1--",
        "outputId": "54ccaf88-0f3d-4c23-db39-6932c3ab8282"
      },
      "execution_count": 10,
      "outputs": [
        {
          "output_type": "stream",
          "name": "stdout",
          "text": [
            "4\n"
          ]
        }
      ]
    },
    {
      "cell_type": "markdown",
      "source": [
        "**f. Modulus (%)**\n",
        "* Used to calculate `remainder` of a division between two numbers."
      ],
      "metadata": {
        "id": "efbiz_jBDB3i"
      }
    },
    {
      "cell_type": "code",
      "source": [
        "# Modulus Division\n",
        "result = 17 % 5\n",
        "print(result)"
      ],
      "metadata": {
        "colab": {
          "base_uri": "https://localhost:8080/"
        },
        "id": "Ox_ZRhWTDO_f",
        "outputId": "904d5a00-0f7b-4130-9955-141c636b2de9"
      },
      "execution_count": 11,
      "outputs": [
        {
          "output_type": "stream",
          "name": "stdout",
          "text": [
            "2\n"
          ]
        }
      ]
    },
    {
      "cell_type": "markdown",
      "source": [
        "**g. Exponentiation (* *)**\n",
        "* Used to raise a number to a specified power."
      ],
      "metadata": {
        "id": "pNGnDMFADiUf"
      }
    },
    {
      "cell_type": "code",
      "source": [
        "# Exponentiation\n",
        "result = 12 ** 2\n",
        "print(result)"
      ],
      "metadata": {
        "colab": {
          "base_uri": "https://localhost:8080/"
        },
        "id": "USGJ6CAMD4Mp",
        "outputId": "2ba7ba96-2517-490f-c27d-5c6c3edea473"
      },
      "execution_count": 15,
      "outputs": [
        {
          "output_type": "stream",
          "name": "stdout",
          "text": [
            "144\n"
          ]
        }
      ]
    },
    {
      "cell_type": "markdown",
      "source": [
        "#### **2. Comparision operators**"
      ],
      "metadata": {
        "id": "pyuef4iQEIAu"
      }
    },
    {
      "cell_type": "markdown",
      "source": [
        "Comparision operators in python are used to compare two values or expressions.\n",
        "\n",
        "They return a boolean value, eithrt `True` or `False`.\n",
        "\n",
        "These operators are fundamental for decision making and controlling flow of a program, as used in conditional statements and loops.\n",
        "\n",
        "The comparision operators are"
      ],
      "metadata": {
        "id": "hck1WqhzEShG"
      }
    },
    {
      "cell_type": "markdown",
      "source": [
        "**a. Equal to (==)**\n",
        "* Checks if two values are equal"
      ],
      "metadata": {
        "id": "IXtiq0XuE-3t"
      }
    },
    {
      "cell_type": "code",
      "source": [
        "# Equal to\n",
        "5 == 3"
      ],
      "metadata": {
        "colab": {
          "base_uri": "https://localhost:8080/"
        },
        "id": "D_7jn2vKFI5M",
        "outputId": "fdfa7bbb-daab-455d-d1a2-931bf74bff8d"
      },
      "execution_count": 16,
      "outputs": [
        {
          "output_type": "execute_result",
          "data": {
            "text/plain": [
              "False"
            ]
          },
          "metadata": {},
          "execution_count": 16
        }
      ]
    },
    {
      "cell_type": "code",
      "source": [
        "# Equal to\n",
        "result = 10 ==10\n",
        "print(result)"
      ],
      "metadata": {
        "colab": {
          "base_uri": "https://localhost:8080/"
        },
        "id": "JeWmeSumFRbS",
        "outputId": "0ab8234b-9585-4e8e-94f3-75165e3d48d9"
      },
      "execution_count": 18,
      "outputs": [
        {
          "output_type": "stream",
          "name": "stdout",
          "text": [
            "True\n"
          ]
        }
      ]
    },
    {
      "cell_type": "markdown",
      "source": [
        "**b. Not equal to (!=)**\n",
        "* Checks if two values are not equal"
      ],
      "metadata": {
        "id": "MBuchtuhFc0Y"
      }
    },
    {
      "cell_type": "code",
      "source": [
        "# Not equal to\n",
        "result = 5 != 3\n",
        "print(result)"
      ],
      "metadata": {
        "colab": {
          "base_uri": "https://localhost:8080/"
        },
        "id": "fKz39sliFnEt",
        "outputId": "e9cc4abd-2080-4bdc-d2e2-bdae2ce634bd"
      },
      "execution_count": 19,
      "outputs": [
        {
          "output_type": "stream",
          "name": "stdout",
          "text": [
            "True\n"
          ]
        }
      ]
    },
    {
      "cell_type": "markdown",
      "source": [
        "**c. Greater than (>)**\n",
        "* Checks if left value is greater than right value."
      ],
      "metadata": {
        "id": "m2MTTOkiFwh4"
      }
    },
    {
      "cell_type": "code",
      "source": [
        "# Greater than\n",
        "5 > 10"
      ],
      "metadata": {
        "colab": {
          "base_uri": "https://localhost:8080/"
        },
        "id": "xTxMPISGF6-O",
        "outputId": "b1e338ca-5878-49ee-81e9-c72179ff6422"
      },
      "execution_count": 20,
      "outputs": [
        {
          "output_type": "execute_result",
          "data": {
            "text/plain": [
              "False"
            ]
          },
          "metadata": {},
          "execution_count": 20
        }
      ]
    },
    {
      "cell_type": "markdown",
      "source": [
        "**d. Less than (<)**\n",
        "* Checks if left value is less than right value."
      ],
      "metadata": {
        "id": "jcCbsg_qGBsF"
      }
    },
    {
      "cell_type": "code",
      "source": [
        "# Less than\n",
        "18 < 70"
      ],
      "metadata": {
        "colab": {
          "base_uri": "https://localhost:8080/"
        },
        "id": "9pUmbbgDGJ1s",
        "outputId": "54023a16-4fbd-480e-9dc1-a4001ebbb965"
      },
      "execution_count": 21,
      "outputs": [
        {
          "output_type": "execute_result",
          "data": {
            "text/plain": [
              "True"
            ]
          },
          "metadata": {},
          "execution_count": 21
        }
      ]
    },
    {
      "cell_type": "markdown",
      "source": [
        "**e. Greater than or equal to (>=)**\n",
        "* Checks if left value is greater than or equal to the right value.\n"
      ],
      "metadata": {
        "id": "lp9a1V9gGSMX"
      }
    },
    {
      "cell_type": "code",
      "source": [
        "# Greater than or Equal to\n",
        "19 >= 10"
      ],
      "metadata": {
        "colab": {
          "base_uri": "https://localhost:8080/"
        },
        "id": "78qlgcbAGnSB",
        "outputId": "bcdda465-d6dc-4eba-b790-557ac21a9fd1"
      },
      "execution_count": 22,
      "outputs": [
        {
          "output_type": "execute_result",
          "data": {
            "text/plain": [
              "True"
            ]
          },
          "metadata": {},
          "execution_count": 22
        }
      ]
    },
    {
      "cell_type": "markdown",
      "source": [
        "**f. Less than or equal to (<=)**\n",
        "* Checks if left value is less than or equal to the right value."
      ],
      "metadata": {
        "id": "eDdMLTw3Gvqb"
      }
    },
    {
      "cell_type": "code",
      "source": [
        "# Less than or Equal to\n",
        "19 <= 10"
      ],
      "metadata": {
        "colab": {
          "base_uri": "https://localhost:8080/"
        },
        "id": "qS-NcKpGG5_h",
        "outputId": "fff62646-138c-4b61-d241-196414747e42"
      },
      "execution_count": 23,
      "outputs": [
        {
          "output_type": "execute_result",
          "data": {
            "text/plain": [
              "False"
            ]
          },
          "metadata": {},
          "execution_count": 23
        }
      ]
    },
    {
      "cell_type": "markdown",
      "source": [
        "##### **Using comparision Operators in conditional statements**"
      ],
      "metadata": {
        "id": "EHxfhqLUHBk-"
      }
    },
    {
      "cell_type": "markdown",
      "source": [
        "In Python, conditional statements like if, elif, and else are used to control the flow of a program based on certain conditions.\n",
        "\n",
        "Comparison operators play a key role in these conditions by helping you compare values and make decisions accordingly."
      ],
      "metadata": {
        "id": "Q752danxIpyd"
      }
    },
    {
      "cell_type": "code",
      "source": [
        "# comparision operators in conditional statements\n",
        "number = 10\n",
        "\n",
        "# Check conditions using equal to\n",
        "# If condition\n",
        "if number == 10:\n",
        "  print(\"The number is 10\")"
      ],
      "metadata": {
        "colab": {
          "base_uri": "https://localhost:8080/"
        },
        "id": "FArtpOPzIzis",
        "outputId": "d6f145ba-6936-4c82-9c0b-46b00036caf0"
      },
      "execution_count": 25,
      "outputs": [
        {
          "output_type": "stream",
          "name": "stdout",
          "text": [
            "The number is 10\n"
          ]
        }
      ]
    },
    {
      "cell_type": "code",
      "source": [
        "# Checking conditions using greater than and greater than equal to\n",
        "# Define a variable\n",
        "age = 25\n",
        "\n",
        "# Check conditions\n",
        "if age < 18:\n",
        "    print(\"You are a minor.\")\n",
        "elif age <= 65:\n",
        "    print(\"You are an adult.\")\n",
        "else:\n",
        "    print(\"You are a senior.\")\n"
      ],
      "metadata": {
        "colab": {
          "base_uri": "https://localhost:8080/"
        },
        "id": "bIHaJfaxJYKV",
        "outputId": "002b9492-013c-4d45-ffe1-adc2fd1071d1"
      },
      "execution_count": 26,
      "outputs": [
        {
          "output_type": "stream",
          "name": "stdout",
          "text": [
            "You are an adult.\n"
          ]
        }
      ]
    },
    {
      "cell_type": "markdown",
      "source": [
        "#### **3. Logical Operators**"
      ],
      "metadata": {
        "id": "lDtclj77KBay"
      }
    },
    {
      "cell_type": "markdown",
      "source": [
        "These evaluate expressions and result a boolean value as result, either `True` or `False`, based on logical relationships between the conditions.\n",
        "\n",
        "Used to combine multiple operations."
      ],
      "metadata": {
        "id": "BvZgLdePKJH6"
      }
    },
    {
      "cell_type": "markdown",
      "source": [
        "**a. and operator**\n",
        "\n",
        "* Returns True if **`both`** the conditions are `true`.\n",
        "* If any one of the conditions is `False`, it returns False."
      ],
      "metadata": {
        "id": "PoZ17g7DKjvO"
      }
    },
    {
      "cell_type": "code",
      "source": [
        "# and operator\n",
        "2 < 3  and 4 == 5"
      ],
      "metadata": {
        "colab": {
          "base_uri": "https://localhost:8080/"
        },
        "id": "lV5iRyR3LDyo",
        "outputId": "b29baa6e-67a0-41b8-ec27-660af6d545bd"
      },
      "execution_count": 27,
      "outputs": [
        {
          "output_type": "execute_result",
          "data": {
            "text/plain": [
              "False"
            ]
          },
          "metadata": {},
          "execution_count": 27
        }
      ]
    },
    {
      "cell_type": "markdown",
      "source": [
        "**b. or operator**\n",
        "* Returns **`True`** if at least one of the conditions is `True`.\n",
        "* It only returns **`False`** only if both conditions are `False`."
      ],
      "metadata": {
        "id": "J5iKbijpLmTx"
      }
    },
    {
      "cell_type": "code",
      "source": [
        "# Or operator\n",
        "3 == 4 or 8 > 1"
      ],
      "metadata": {
        "colab": {
          "base_uri": "https://localhost:8080/"
        },
        "id": "0lLHlgF_MNx9",
        "outputId": "2e58388a-5eda-410d-f49d-413c838b21bc"
      },
      "execution_count": 28,
      "outputs": [
        {
          "output_type": "execute_result",
          "data": {
            "text/plain": [
              "True"
            ]
          },
          "metadata": {},
          "execution_count": 28
        }
      ]
    },
    {
      "cell_type": "markdown",
      "source": [
        "**c. not operator**\n",
        "* negates the Boolean value of a condition.\n",
        "* If the condition is True, not will make it False, and if it is False, not will make it True."
      ],
      "metadata": {
        "id": "QkACOnP4MZQa"
      }
    },
    {
      "cell_type": "code",
      "source": [
        "# not operator\n",
        "not 2 < 3"
      ],
      "metadata": {
        "colab": {
          "base_uri": "https://localhost:8080/"
        },
        "id": "ENiCr07HMjuk",
        "outputId": "197a2e99-551b-46d2-a4d0-93d33ab11190"
      },
      "execution_count": 31,
      "outputs": [
        {
          "output_type": "execute_result",
          "data": {
            "text/plain": [
              "False"
            ]
          },
          "metadata": {},
          "execution_count": 31
        }
      ]
    },
    {
      "cell_type": "markdown",
      "source": [
        "##### **Combining Conditions with Logical operators**"
      ],
      "metadata": {
        "id": "eqmo9HyxNR92"
      }
    },
    {
      "cell_type": "markdown",
      "source": [
        "* Logical operators in Python allow you to combine multiple conditions into compound conditions, making your decision-making scenarios more complex and nuanced.\n",
        "* By using and, or, and not, you can create more sophisticated logic for controlling the flow of your program."
      ],
      "metadata": {
        "id": "8Q4PWQrLNYzT"
      }
    },
    {
      "cell_type": "markdown",
      "source": [
        "Using 'and' to combine conditions"
      ],
      "metadata": {
        "id": "xSmepGcXOxlb"
      }
    },
    {
      "cell_type": "code",
      "source": [
        "# Using 'and'\n",
        "x = 5\n",
        "y = 10\n",
        "\n",
        "# Check if x is greater than 3 and y is less than 15\n",
        "if x > 3 and y < 15:\n",
        "    print(\"Both conditions are true.\")\n",
        "else:\n",
        "    print(\"At least one condition is false.\")\n"
      ],
      "metadata": {
        "colab": {
          "base_uri": "https://localhost:8080/"
        },
        "id": "XgNJY1k8ObGi",
        "outputId": "392b799c-a880-48c4-a859-0be7130e996e"
      },
      "execution_count": 32,
      "outputs": [
        {
          "output_type": "stream",
          "name": "stdout",
          "text": [
            "Both conditions are true.\n"
          ]
        }
      ]
    },
    {
      "cell_type": "markdown",
      "source": [
        "Using 'or' to Combine Conditions"
      ],
      "metadata": {
        "id": "BNcvuxOYO6P6"
      }
    },
    {
      "cell_type": "code",
      "source": [
        "# Using 'or'\n",
        "\n",
        "a = 8\n",
        "b = 3\n",
        "\n",
        "# Check if a is less than 10 or b is greater than 5\n",
        "if a < 10 or b > 5:\n",
        "    print(\"At least one condition is true.\")\n",
        "else:\n",
        "    print(\"Both conditions are false.\")"
      ],
      "metadata": {
        "colab": {
          "base_uri": "https://localhost:8080/"
        },
        "id": "6mtnXDRnO-QV",
        "outputId": "ce53becc-ab4a-4aeb-e3ec-9f2d222535eb"
      },
      "execution_count": 33,
      "outputs": [
        {
          "output_type": "stream",
          "name": "stdout",
          "text": [
            "At least one condition is true.\n"
          ]
        }
      ]
    },
    {
      "cell_type": "markdown",
      "source": [
        "Using 'not' to Negate a Condition"
      ],
      "metadata": {
        "id": "WWF-7M-tPHjc"
      }
    },
    {
      "cell_type": "code",
      "source": [
        "# Using 'not'\n",
        "\n",
        "num = 7\n",
        "\n",
        "# Check if num is not equal to 10\n",
        "if not num == 10:\n",
        "    print(\"num is not 10.\")\n",
        "else:\n",
        "    print(\"num is 10.\")"
      ],
      "metadata": {
        "colab": {
          "base_uri": "https://localhost:8080/"
        },
        "id": "-Z74QolMPJXn",
        "outputId": "2bf5c0dd-0016-4d0b-aa83-d2dac98b0395"
      },
      "execution_count": 34,
      "outputs": [
        {
          "output_type": "stream",
          "name": "stdout",
          "text": [
            "num is not 10.\n"
          ]
        }
      ]
    },
    {
      "cell_type": "markdown",
      "source": [
        "#### 4. **Membership opeartors**"
      ],
      "metadata": {
        "id": "hyjcvwUbPcgs"
      }
    },
    {
      "cell_type": "markdown",
      "source": [
        "Membership operators in Python are used to check if a value or variable is present in a sequence like a list, tuple, or string.\n",
        "\n",
        "They help you determine whether a specific item exists in a collection."
      ],
      "metadata": {
        "id": "7-1WjY_CPj2A"
      }
    },
    {
      "cell_type": "markdown",
      "source": [
        "**a. in**\n",
        "* Returns **`True`** if the value is found in the sequence\n",
        "* If not found, it returns `False`."
      ],
      "metadata": {
        "id": "yLYaL8blPywm"
      }
    },
    {
      "cell_type": "code",
      "source": [
        "# In Operator\n",
        "str1 = \"Hello\"\n",
        "\"O\" in str1"
      ],
      "metadata": {
        "colab": {
          "base_uri": "https://localhost:8080/"
        },
        "id": "dUlPDxG7QAuu",
        "outputId": "1e018c6f-35bf-4ac1-fba4-c5fb615857e0"
      },
      "execution_count": 36,
      "outputs": [
        {
          "output_type": "execute_result",
          "data": {
            "text/plain": [
              "False"
            ]
          },
          "metadata": {},
          "execution_count": 36
        }
      ]
    },
    {
      "cell_type": "markdown",
      "source": [
        "**b. not in**\n",
        "* Returns True if the value is not found in the sequence\n",
        "* If found, it returns False."
      ],
      "metadata": {
        "id": "uC7JoUkIQVxS"
      }
    },
    {
      "cell_type": "code",
      "source": [
        "# not in\n",
        "str1 = \"Hello\"\n",
        "\"O\" not in str1"
      ],
      "metadata": {
        "colab": {
          "base_uri": "https://localhost:8080/"
        },
        "id": "L2OMeV-TQgxT",
        "outputId": "43711298-9693-4251-e1dc-fba3de86853e"
      },
      "execution_count": 37,
      "outputs": [
        {
          "output_type": "execute_result",
          "data": {
            "text/plain": [
              "True"
            ]
          },
          "metadata": {},
          "execution_count": 37
        }
      ]
    },
    {
      "cell_type": "markdown",
      "source": [
        "#### **5. Identity operators**"
      ],
      "metadata": {
        "id": "Q9N-wj2GQmt9"
      }
    },
    {
      "cell_type": "markdown",
      "source": [
        "Identity operators in Python are used to compare the `memory locations` of two objects to determine if they are the same object in memory."
      ],
      "metadata": {
        "id": "alnsqON1QrrD"
      }
    },
    {
      "cell_type": "markdown",
      "source": [
        "**a. is**\n",
        "* Returns True if two variables point to the same object in memory."
      ],
      "metadata": {
        "id": "EJ6jUWz3Q2bw"
      }
    },
    {
      "cell_type": "code",
      "source": [
        "# For integers\n",
        "in_1 = 45\n",
        "in_2 = 45\n",
        "in_1 is in_2"
      ],
      "metadata": {
        "colab": {
          "base_uri": "https://localhost:8080/"
        },
        "id": "sOMgZyU3RAIi",
        "outputId": "69dfba87-5a3b-4920-e460-3a7d4244ff8e"
      },
      "execution_count": 38,
      "outputs": [
        {
          "output_type": "execute_result",
          "data": {
            "text/plain": [
              "True"
            ]
          },
          "metadata": {},
          "execution_count": 38
        }
      ]
    },
    {
      "cell_type": "code",
      "source": [
        "# For lists\n",
        "l1 = [23, 45, 67]\n",
        "l2 = [23, 45, 67]\n",
        "l1 is l2"
      ],
      "metadata": {
        "colab": {
          "base_uri": "https://localhost:8080/"
        },
        "id": "fmIVRHbmRUOE",
        "outputId": "0b7e8aae-6c2f-4cec-fe00-190f3430a968"
      },
      "execution_count": 39,
      "outputs": [
        {
          "output_type": "execute_result",
          "data": {
            "text/plain": [
              "False"
            ]
          },
          "metadata": {},
          "execution_count": 39
        }
      ]
    },
    {
      "cell_type": "markdown",
      "source": [
        "**b. is not**\n",
        "*  Returns True if two variables point to different objects in memory."
      ],
      "metadata": {
        "id": "dx_r3IQxRiYN"
      }
    },
    {
      "cell_type": "code",
      "source": [
        "# For integers\n",
        "in_1 = 45\n",
        "in_2 = 45\n",
        "in_1 is not in_2"
      ],
      "metadata": {
        "colab": {
          "base_uri": "https://localhost:8080/"
        },
        "id": "7ChimqlYRqAK",
        "outputId": "7985e2e6-7ba4-4474-9039-c8b6d9b0d6d8"
      },
      "execution_count": 40,
      "outputs": [
        {
          "output_type": "execute_result",
          "data": {
            "text/plain": [
              "False"
            ]
          },
          "metadata": {},
          "execution_count": 40
        }
      ]
    },
    {
      "cell_type": "code",
      "source": [
        "# For lists\n",
        "l1 = [23, 45, 67]\n",
        "l2 = [23, 45, 67]\n",
        "l1 is not l2"
      ],
      "metadata": {
        "colab": {
          "base_uri": "https://localhost:8080/"
        },
        "id": "u44-y9buR1vU",
        "outputId": "a2c950cd-bd29-4c4e-c225-f7994219d835"
      },
      "execution_count": 41,
      "outputs": [
        {
          "output_type": "execute_result",
          "data": {
            "text/plain": [
              "True"
            ]
          },
          "metadata": {},
          "execution_count": 41
        }
      ]
    }
  ]
}